{
  "nbformat": 4,
  "nbformat_minor": 0,
  "metadata": {
    "colab": {
      "provenance": [],
      "authorship_tag": "ABX9TyNK2ms06J+wqjWQOabx5K8c",
      "include_colab_link": true
    },
    "kernelspec": {
      "name": "python3",
      "display_name": "Python 3"
    },
    "language_info": {
      "name": "python"
    },
    "widgets": {
      "application/vnd.jupyter.widget-state+json": {
        "b04ae020f5c14341b8db9b69f47d4837": {
          "model_module": "@jupyter-widgets/controls",
          "model_name": "TextModel",
          "model_module_version": "1.5.0",
          "state": {
            "_dom_classes": [],
            "_model_module": "@jupyter-widgets/controls",
            "_model_module_version": "1.5.0",
            "_model_name": "TextModel",
            "_view_count": null,
            "_view_module": "@jupyter-widgets/controls",
            "_view_module_version": "1.5.0",
            "_view_name": "TextView",
            "continuous_update": true,
            "description": "Food Query:",
            "description_tooltip": null,
            "disabled": false,
            "layout": "IPY_MODEL_c88c87a056544f3aae4c565f0b627b92",
            "placeholder": "Type the food here",
            "style": "IPY_MODEL_331382fbd37547e0afa8773cc50d8fe9",
            "value": "fried chicken"
          }
        },
        "c88c87a056544f3aae4c565f0b627b92": {
          "model_module": "@jupyter-widgets/base",
          "model_name": "LayoutModel",
          "model_module_version": "1.2.0",
          "state": {
            "_model_module": "@jupyter-widgets/base",
            "_model_module_version": "1.2.0",
            "_model_name": "LayoutModel",
            "_view_count": null,
            "_view_module": "@jupyter-widgets/base",
            "_view_module_version": "1.2.0",
            "_view_name": "LayoutView",
            "align_content": null,
            "align_items": null,
            "align_self": null,
            "border": null,
            "bottom": null,
            "display": null,
            "flex": null,
            "flex_flow": null,
            "grid_area": null,
            "grid_auto_columns": null,
            "grid_auto_flow": null,
            "grid_auto_rows": null,
            "grid_column": null,
            "grid_gap": null,
            "grid_row": null,
            "grid_template_areas": null,
            "grid_template_columns": null,
            "grid_template_rows": null,
            "height": null,
            "justify_content": null,
            "justify_items": null,
            "left": null,
            "margin": null,
            "max_height": null,
            "max_width": null,
            "min_height": null,
            "min_width": null,
            "object_fit": null,
            "object_position": null,
            "order": null,
            "overflow": null,
            "overflow_x": null,
            "overflow_y": null,
            "padding": null,
            "right": null,
            "top": null,
            "visibility": null,
            "width": null
          }
        },
        "331382fbd37547e0afa8773cc50d8fe9": {
          "model_module": "@jupyter-widgets/controls",
          "model_name": "DescriptionStyleModel",
          "model_module_version": "1.5.0",
          "state": {
            "_model_module": "@jupyter-widgets/controls",
            "_model_module_version": "1.5.0",
            "_model_name": "DescriptionStyleModel",
            "_view_count": null,
            "_view_module": "@jupyter-widgets/base",
            "_view_module_version": "1.2.0",
            "_view_name": "StyleView",
            "description_width": "initial"
          }
        },
        "82b3ad3b6921412a870f5d2da5392711": {
          "model_module": "@jupyter-widgets/controls",
          "model_name": "ButtonModel",
          "model_module_version": "1.5.0",
          "state": {
            "_dom_classes": [],
            "_model_module": "@jupyter-widgets/controls",
            "_model_module_version": "1.5.0",
            "_model_name": "ButtonModel",
            "_view_count": null,
            "_view_module": "@jupyter-widgets/controls",
            "_view_module_version": "1.5.0",
            "_view_name": "ButtonView",
            "button_style": "",
            "description": "Submit",
            "disabled": false,
            "icon": "",
            "layout": "IPY_MODEL_e085f6b8956d43838a41554fffa19bb0",
            "style": "IPY_MODEL_722f23eed7274a0e868d1fe3160d9e55",
            "tooltip": ""
          }
        },
        "e085f6b8956d43838a41554fffa19bb0": {
          "model_module": "@jupyter-widgets/base",
          "model_name": "LayoutModel",
          "model_module_version": "1.2.0",
          "state": {
            "_model_module": "@jupyter-widgets/base",
            "_model_module_version": "1.2.0",
            "_model_name": "LayoutModel",
            "_view_count": null,
            "_view_module": "@jupyter-widgets/base",
            "_view_module_version": "1.2.0",
            "_view_name": "LayoutView",
            "align_content": null,
            "align_items": null,
            "align_self": null,
            "border": null,
            "bottom": null,
            "display": null,
            "flex": null,
            "flex_flow": null,
            "grid_area": null,
            "grid_auto_columns": null,
            "grid_auto_flow": null,
            "grid_auto_rows": null,
            "grid_column": null,
            "grid_gap": null,
            "grid_row": null,
            "grid_template_areas": null,
            "grid_template_columns": null,
            "grid_template_rows": null,
            "height": null,
            "justify_content": null,
            "justify_items": null,
            "left": null,
            "margin": null,
            "max_height": null,
            "max_width": null,
            "min_height": null,
            "min_width": null,
            "object_fit": null,
            "object_position": null,
            "order": null,
            "overflow": null,
            "overflow_x": null,
            "overflow_y": null,
            "padding": null,
            "right": null,
            "top": null,
            "visibility": null,
            "width": null
          }
        },
        "722f23eed7274a0e868d1fe3160d9e55": {
          "model_module": "@jupyter-widgets/controls",
          "model_name": "ButtonStyleModel",
          "model_module_version": "1.5.0",
          "state": {
            "_model_module": "@jupyter-widgets/controls",
            "_model_module_version": "1.5.0",
            "_model_name": "ButtonStyleModel",
            "_view_count": null,
            "_view_module": "@jupyter-widgets/base",
            "_view_module_version": "1.2.0",
            "_view_name": "StyleView",
            "button_color": null,
            "font_weight": ""
          }
        }
      }
    }
  },
  "cells": [
    {
      "cell_type": "markdown",
      "metadata": {
        "id": "view-in-github",
        "colab_type": "text"
      },
      "source": [
        "<a href=\"https://colab.research.google.com/github/karsonbastug/NutriTrack/blob/main/NutritionX.ipynb\" target=\"_parent\"><img src=\"https://colab.research.google.com/assets/colab-badge.svg\" alt=\"Open In Colab\"/></a>"
      ]
    },
    {
      "cell_type": "code",
      "source": [
        "\n",
        "from google.colab import drive\n",
        "\n",
        "def connect_drive():\n",
        "    drive.mount('/content/drive')\n",
        "\n",
        "connect_drive()\n"
      ],
      "metadata": {
        "id": "Db5tGjypOwdw",
        "colab": {
          "base_uri": "https://localhost:8080/"
        },
        "outputId": "56a18a6a-1433-4652-b36a-d63361320d8e"
      },
      "execution_count": 7,
      "outputs": [
        {
          "output_type": "stream",
          "name": "stdout",
          "text": [
            "Drive already mounted at /content/drive; to attempt to forcibly remount, call drive.mount(\"/content/drive\", force_remount=True).\n"
          ]
        }
      ]
    },
    {
      "cell_type": "code",
      "source": [
        "# food_query_interface.py\n",
        "\n",
        "import requests\n",
        "import pandas as pd\n",
        "import os\n",
        "import ipywidgets as widgets\n",
        "from IPython.display import display\n",
        "\n",
        "API_URL = \"https://trackapi.nutritionix.com/v2/natural/nutrients\"\n",
        "APP_ID = \"your ID here\"\n",
        "APP_KEY = \"your key here\"\n",
        "\n",
        "food_query_input = widgets.Text(\n",
        "    description='Food Query:',\n",
        "    placeholder='Type the food here',\n",
        "    style={'description_width': 'initial'}\n",
        ")\n",
        "\n",
        "submit_button = widgets.Button(description='Submit')\n",
        "\n",
        "def on_button_click(b):\n",
        "    food_query = food_query_input.value\n",
        "    if not food_query:\n",
        "        print(\"Please enter a food query.\")\n",
        "        return\n",
        "\n",
        "    headers = {\n",
        "        \"x-app-id\": APP_ID,\n",
        "        \"x-app-key\": APP_KEY,\n",
        "        \"Content-Type\": \"application/json\"\n",
        "    }\n",
        "    payload = {\n",
        "        \"query\": food_query\n",
        "    }\n",
        "\n",
        "    response = requests.post(API_URL, headers=headers, json=payload)\n",
        "\n",
        "    if response.status_code == 200:\n",
        "        data = response.json()\n",
        "        food_items = data.get('foods', [])\n",
        "        new_data_df = pd.DataFrame(food_items)\n",
        "        drive_path = '/content/drive/MyDrive/nutrition_data.xlsx'\n",
        "\n",
        "        if os.path.exists(drive_path):\n",
        "            existing_df = pd.read_excel(drive_path)\n",
        "            combined_df = pd.concat([existing_df, new_data_df], ignore_index=True)\n",
        "        else:\n",
        "            combined_df = new_data_df\n",
        "\n",
        "        combined_df.to_excel(drive_path, index=False)\n",
        "\n",
        "        print(f\"Data has been successfully appended to {drive_path}\")\n",
        "    else:\n",
        "        print(f\"Failed to retrieve data: {response.status_code}\")\n",
        "        print(response.text)\n",
        "\n",
        "submit_button.on_click(on_button_click)\n",
        "\n",
        "display(food_query_input, submit_button)\n"
      ],
      "metadata": {
        "colab": {
          "base_uri": "https://localhost:8080/",
          "height": 116,
          "referenced_widgets": [
            "b04ae020f5c14341b8db9b69f47d4837",
            "c88c87a056544f3aae4c565f0b627b92",
            "331382fbd37547e0afa8773cc50d8fe9",
            "82b3ad3b6921412a870f5d2da5392711",
            "e085f6b8956d43838a41554fffa19bb0",
            "722f23eed7274a0e868d1fe3160d9e55"
          ]
        },
        "id": "bmxczTix1TQ5",
        "outputId": "ca91d15d-5dc1-4bf2-a463-fc8e586bb01f"
      },
      "execution_count": 8,
      "outputs": [
        {
          "output_type": "display_data",
          "data": {
            "text/plain": [
              "Text(value='', description='Food Query:', placeholder='Type the food here', style=DescriptionStyle(description…"
            ],
            "application/vnd.jupyter.widget-view+json": {
              "version_major": 2,
              "version_minor": 0,
              "model_id": "b04ae020f5c14341b8db9b69f47d4837"
            }
          },
          "metadata": {}
        },
        {
          "output_type": "display_data",
          "data": {
            "text/plain": [
              "Button(description='Submit', style=ButtonStyle())"
            ],
            "application/vnd.jupyter.widget-view+json": {
              "version_major": 2,
              "version_minor": 0,
              "model_id": "82b3ad3b6921412a870f5d2da5392711"
            }
          },
          "metadata": {}
        },
        {
          "output_type": "stream",
          "name": "stdout",
          "text": [
            "Data has been successfully appended to /content/drive/MyDrive/nutrition_data.xlsx\n",
            "Data has been successfully appended to /content/drive/MyDrive/nutrition_data.xlsx\n"
          ]
        }
      ]
    }
  ]
}